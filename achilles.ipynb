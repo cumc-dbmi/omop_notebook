{
 "cells": [
  {
   "cell_type": "markdown",
   "metadata": {},
   "source": [
    "# Achilles on BigQuery\n",
    "\n",
    "This is an attempt to replicate some reports from [Achilles](http://www.ohdsi.org/web/wiki/doku.php?id=documentation:software:achilles) in order to characterize synthetic datasets stored in BigQuery."
   ]
  },
  {
   "cell_type": "code",
   "execution_count": 1,
   "metadata": {},
   "outputs": [],
   "source": [
    "%load_ext google.datalab.kernel\n",
    "%matplotlib inline\n",
    "\n",
    "import google.datalab.bigquery as bq\n",
    "import matplotlib.pyplot as plt\n",
    "import pandas as pd"
   ]
  },
  {
   "cell_type": "markdown",
   "metadata": {},
   "source": [
    "## Total Persons"
   ]
  },
  {
   "cell_type": "code",
   "execution_count": 4,
   "metadata": {},
   "outputs": [],
   "source": [
    "%%bq query --name personsTotal\n",
    "\n",
    "select count(*) FROM test_run_achilles_merge_jan4.fake_person"
   ]
  },
  {
   "cell_type": "code",
   "execution_count": 5,
   "metadata": {},
   "outputs": [
    {
     "data": {
      "text/plain": [
       "946237"
      ]
     },
     "execution_count": 5,
     "metadata": {},
     "output_type": "execute_result"
    }
   ],
   "source": [
    "df_person_with_total = personsTotal.execute(output_options=bq.QueryOutput.dataframe()).result()\n",
    "df_person_with_total.f0_.values[0]"
   ]
  },
  {
   "cell_type": "markdown",
   "metadata": {},
   "source": [
    "# Person by Gender"
   ]
  },
  {
   "cell_type": "code",
   "execution_count": 2,
   "metadata": {
    "scrolled": true
   },
   "outputs": [],
   "source": [
    "%%bq query --name populationByGender\n",
    "\n",
    "WITH gender_count AS\n",
    "(SELECT \n",
    " gender_concept_id,\n",
    " COUNT(1) n\n",
    "FROM `test_merge_dec26.person`\n",
    "GROUP BY gender_concept_id)\n",
    "\n",
    "SELECT\n",
    " gc.gender_concept_id concept_id,\n",
    " c.concept_name,\n",
    " gc.n\n",
    "FROM gender_count gc\n",
    "  JOIN `test_merge_dec26.concept` c \n",
    "    ON gc.gender_concept_id = c.concept_id"
   ]
  },
  {
   "cell_type": "code",
   "execution_count": 3,
   "metadata": {},
   "outputs": [],
   "source": [
    "df = populationByGender.execute(output_options=bq.QueryOutput.dataframe()).result()"
   ]
  },
  {
   "cell_type": "code",
   "execution_count": 6,
   "metadata": {},
   "outputs": [
    {
     "data": {
      "image/png": "[encoded data removed]",
      "text/plain": [
       "<matplotlib.figure.Figure at 0x7fc18f9244e0>"
      ]
     },
     "metadata": {},
     "output_type": "display_data"
    }
   ],
   "source": [
    "f, ax = plt.subplots(figsize=(5, 5))\n",
    "labels = df.concept_name.values\n",
    "sizes = df.n.values\n",
    "\n",
    "my_circle = plt.Circle((0,0), 0.5, color='white')\n",
    "df.plot(title='Population by Gender', kind='pie', y='n', labels=zip(labels, sizes), ax=ax)\n",
    "plt.gcf().gca().add_artist(my_circle)\n",
    "plt.show()"
   ]
  },
  {
   "cell_type": "code",
   "execution_count": 7,
   "metadata": {},
   "outputs": [],
   "source": [
    "%%bq query --name personWithMeasurementCount \n",
    "\n",
    "select count(*) FROM test_run_achilles_merge_jan4.fake_person a\n",
    "where exists( select 1 FROM `test_run_achilles_merge_jan4.fake_measurement` b where a.person_id = b.person_id)"
   ]
  },
  {
   "cell_type": "code",
   "execution_count": 8,
   "metadata": {
    "scrolled": true
   },
   "outputs": [],
   "source": [
    "df_person_with_measurement_count = personWithMeasurementCount.execute(output_options=bq.QueryOutput.dataframe()).result()"
   ]
  },
  {
   "cell_type": "code",
   "execution_count": 9,
   "metadata": {},
   "outputs": [],
   "source": [
    "%%bq query --name personWithConditionOrProcedureCount \n",
    "\n",
    "select count(*) FROM test_run_achilles_merge_jan4.fake_person a\n",
    "where exists( select 1  FROM `test_run_achilles_merge_jan4.fake_condition_occurrence` b where a.person_id = b.person_id)\n",
    "or exists( select 1  FROM `test_run_achilles_merge_jan4.fake_procedure_occurrence` b where a.person_id = b.person_id)"
   ]
  },
  {
   "cell_type": "code",
   "execution_count": 10,
   "metadata": {
    "scrolled": true
   },
   "outputs": [],
   "source": [
    "df_person_with_condition_or_procedure_count = personWithConditionOrProcedureCount.execute(output_options=bq.QueryOutput.dataframe()).result()"
   ]
  },
  {
   "cell_type": "code",
   "execution_count": 11,
   "metadata": {},
   "outputs": [],
   "source": [
    "%%bq query --name personWithDrugCount\n",
    "\n",
    "select count(*) FROM test_run_achilles_merge_jan4.fake_person a\n",
    "where exists( select 1 FROM `test_run_achilles_merge_jan4.fake_drug_exposure`  b where a.person_id = b.person_id)"
   ]
  },
  {
   "cell_type": "code",
   "execution_count": 12,
   "metadata": {},
   "outputs": [],
   "source": [
    "df_person_with_drug_count = personWithDrugCount.execute(output_options=bq.QueryOutput.dataframe()).result()"
   ]
  },
  {
   "cell_type": "code",
   "execution_count": 13,
   "metadata": {},
   "outputs": [],
   "source": [
    "%%bq query --name personWithAllCount\n",
    "\n",
    "select count(*) FROM test_run_achilles_merge_jan4.fake_person a\n",
    "where exists( select 1 FROM `test_run_achilles_merge_jan4.fake_drug_exposure`  b where a.person_id = b.person_id)\n",
    "and exists( select 1 FROM `test_run_achilles_merge_jan4.fake_procedure_occurrence` p where a.person_id = p.person_id)\n",
    "and exists( select 1 FROM `test_run_achilles_merge_jan4.fake_visit_occurrence`  v where a.person_id = v.person_id)\n",
    "and exists( select 1 FROM `test_run_achilles_merge_jan4.fake_measurement`  m where a.person_id = m.person_id)\n",
    "and exists( select 1 FROM `test_run_achilles_merge_jan4.fake_condition_occurrence`  c where a.person_id = c.person_id)"
   ]
  },
  {
   "cell_type": "code",
   "execution_count": 14,
   "metadata": {},
   "outputs": [],
   "source": [
    "df_person_with_all_count = personWithAllCount.execute(output_options=bq.QueryOutput.dataframe()).result()"
   ]
  },
  {
   "cell_type": "markdown",
   "metadata": {},
   "source": [
    "# Person counts"
   ]
  },
  {
   "cell_type": "code",
   "execution_count": 15,
   "metadata": {
    "scrolled": true
   },
   "outputs": [
    {
     "data": {
      "text/html": [
       "<div>\n",
       "<style scoped>\n",
       "    .dataframe tbody tr th:only-of-type {\n",
       "        vertical-align: middle;\n",
       "    }\n",
       "\n",
       "    .dataframe tbody tr th {\n",
       "        vertical-align: top;\n",
       "    }\n",
       "\n",
       "    .dataframe thead th {\n",
       "        text-align: right;\n",
       "    }\n",
       "</style>\n",
       "<table border=\"1\" class=\"dataframe\">\n",
       "  <thead>\n",
       "    <tr style=\"text-align: right;\">\n",
       "      <th></th>\n",
       "      <th># persons with atleast...</th>\n",
       "      <th>counts</th>\n",
       "    </tr>\n",
       "  </thead>\n",
       "  <tbody>\n",
       "    <tr>\n",
       "      <th>0</th>\n",
       "      <td>... one measurement</td>\n",
       "      <td>946234</td>\n",
       "    </tr>\n",
       "    <tr>\n",
       "      <th>1</th>\n",
       "      <td>... one condition/procedure occurrence</td>\n",
       "      <td>946237</td>\n",
       "    </tr>\n",
       "    <tr>\n",
       "      <th>2</th>\n",
       "      <td>... one drug exposure</td>\n",
       "      <td>892671</td>\n",
       "    </tr>\n",
       "    <tr>\n",
       "      <th>3</th>\n",
       "      <td>... one record in all (visit, drug, measurment...</td>\n",
       "      <td>888766</td>\n",
       "    </tr>\n",
       "  </tbody>\n",
       "</table>\n",
       "</div>"
      ],
      "text/plain": [
       "                           # persons with atleast...  counts\n",
       "0                                ... one measurement  946234\n",
       "1             ... one condition/procedure occurrence  946237\n",
       "2                              ... one drug exposure  892671\n",
       "3  ... one record in all (visit, drug, measurment...  888766"
      ]
     },
     "execution_count": 15,
     "metadata": {},
     "output_type": "execute_result"
    }
   ],
   "source": [
    "counts_dic = {'# persons with atleast...':['... one measurement', \n",
    "                                           '... one condition/procedure occurrence',\n",
    "                                           '... one drug exposure',\n",
    "                                           '... one record in all (visit, drug, measurment, condition, procedure)'],\n",
    "              'counts' : [df_person_with_measurement_count.f0_.values[0],\n",
    "                          df_person_with_condition_or_procedure_count.f0_.values[0],\n",
    "                          df_person_with_drug_count.f0_.values[0],\n",
    "                          df_person_with_all_count.f0_.values[0]]\n",
    "             }\n",
    "                   \n",
    "df_person_counts = pd.DataFrame(data=counts_dic)\n",
    "df_person_counts"
   ]
  },
  {
   "cell_type": "code",
   "execution_count": 16,
   "metadata": {},
   "outputs": [],
   "source": [
    "%%bq query --name conditionByType\n",
    "\n",
    "select c1.concept_id as condition_concept_id,\n",
    "       c1.concept_name as condition_concept_name,\n",
    "       c2.concept_group_id as concept_id,\n",
    "       c2.concept_group_name as concept_name,\n",
    "       sum(ar1.count_value) as count_value\n",
    "from (\n",
    "  select cast(stratum_1 as int64) stratum_1, cast(stratum_2 as int64) stratum_2, count_value\n",
    "  FROM test_run_achilles_merge_jan4.fake_achilles_results\n",
    "  where analysis_id = 405\n",
    "  GROUP BY analysis_id, stratum_1, stratum_2, count_value\n",
    ") ar1\n",
    "inner join test_run_achilles_merge_jan4.concept c1 on ar1.stratum_1 = c1.concept_id\n",
    "inner join\n",
    "(\n",
    "  select concept_id,\n",
    "    case when concept_name like 'Inpatient%' then 10\n",
    "          when concept_name like 'Outpatient%' then 20\n",
    "          else concept_id end\n",
    "          +\n",
    "          case when (concept_name like 'Inpatient%' or concept_name like 'Outpatient%' ) and (concept_name like '%primary%' or concept_name like '%1st position%') then 1\n",
    "          when (concept_name like 'Inpatient%' or concept_name like 'Outpatient%' ) and (concept_name not like '%primary%' and concept_name not like '%1st position%') then 2\n",
    "          else 0 end as concept_group_id,\n",
    "    CONCAT(case when concept_name like 'Inpatient%' then 'Claim- Inpatient: '\n",
    "          when concept_name like 'Outpatient%' then 'Claim- Outpatient: '\n",
    "          else concept_name end\n",
    "          ,\n",
    "          ''\n",
    "          ,\n",
    "          case when (concept_name like 'Inpatient%' or concept_name like 'Outpatient%' ) and (concept_name like '%primary%' or concept_name like '%1st position%') then 'Primary diagnosis'\n",
    "          when (concept_name like 'Inpatient%' or concept_name like 'Outpatient%' ) and (concept_name not like '%primary%' and concept_name not like '%1st position%') then 'Secondary diagnosis'\n",
    "          else '' end) as concept_group_name\n",
    "  from test_run_achilles_merge_jan4.concept\n",
    "  where lower(concept_class_id) = 'condition type'\n",
    ") c2 on ar1.stratum_2 = c2.concept_id\n",
    "group by c1.concept_id,\n",
    "       c1.concept_name,\n",
    "       c2.concept_group_id,\n",
    "       c2.concept_group_name\n",
    "    "
   ]
  },
  {
   "cell_type": "code",
   "execution_count": 17,
   "metadata": {},
   "outputs": [],
   "source": [
    "df_condition_by_type = conditionByType.execute(output_options=bq.QueryOutput.dataframe()).result()"
   ]
  },
  {
   "cell_type": "markdown",
   "metadata": {},
   "source": [
    "# Condition by Type"
   ]
  },
  {
   "cell_type": "code",
   "execution_count": 18,
   "metadata": {
    "scrolled": true
   },
   "outputs": [
    {
     "data": {
      "text/html": [
       "<div>\n",
       "<style scoped>\n",
       "    .dataframe tbody tr th:only-of-type {\n",
       "        vertical-align: middle;\n",
       "    }\n",
       "\n",
       "    .dataframe tbody tr th {\n",
       "        vertical-align: top;\n",
       "    }\n",
       "\n",
       "    .dataframe thead th {\n",
       "        text-align: right;\n",
       "    }\n",
       "</style>\n",
       "<table border=\"1\" class=\"dataframe\">\n",
       "  <thead>\n",
       "    <tr style=\"text-align: right;\">\n",
       "      <th></th>\n",
       "      <th>condition_concept_id</th>\n",
       "      <th>condition_concept_name</th>\n",
       "      <th>concept_name</th>\n",
       "      <th>count_value</th>\n",
       "    </tr>\n",
       "  </thead>\n",
       "  <tbody>\n",
       "    <tr>\n",
       "      <th>29311</th>\n",
       "      <td>320128</td>\n",
       "      <td>Essential hypertension</td>\n",
       "      <td>Claim- Outpatient: Secondary diagnosis</td>\n",
       "      <td>603708</td>\n",
       "    </tr>\n",
       "    <tr>\n",
       "      <th>15573</th>\n",
       "      <td>77670</td>\n",
       "      <td>Chest pain</td>\n",
       "      <td>Claim- Outpatient: Primary diagnosis</td>\n",
       "      <td>419081</td>\n",
       "    </tr>\n",
       "    <tr>\n",
       "      <th>26063</th>\n",
       "      <td>201826</td>\n",
       "      <td>Type 2 diabetes mellitus</td>\n",
       "      <td>Claim- Outpatient: Primary diagnosis</td>\n",
       "      <td>347432</td>\n",
       "    </tr>\n",
       "    <tr>\n",
       "      <th>36032</th>\n",
       "      <td>320128</td>\n",
       "      <td>Essential hypertension</td>\n",
       "      <td>Claim- Outpatient: Primary diagnosis</td>\n",
       "      <td>295551</td>\n",
       "    </tr>\n",
       "    <tr>\n",
       "      <th>36558</th>\n",
       "      <td>432867</td>\n",
       "      <td>Hyperlipidemia</td>\n",
       "      <td>Claim- Outpatient: Secondary diagnosis</td>\n",
       "      <td>284294</td>\n",
       "    </tr>\n",
       "    <tr>\n",
       "      <th>41240</th>\n",
       "      <td>201826</td>\n",
       "      <td>Type 2 diabetes mellitus</td>\n",
       "      <td>Claim- Outpatient: Secondary diagnosis</td>\n",
       "      <td>275409</td>\n",
       "    </tr>\n",
       "    <tr>\n",
       "      <th>41469</th>\n",
       "      <td>200219</td>\n",
       "      <td>Abdominal pain</td>\n",
       "      <td>Claim- Outpatient: Primary diagnosis</td>\n",
       "      <td>232661</td>\n",
       "    </tr>\n",
       "    <tr>\n",
       "      <th>34612</th>\n",
       "      <td>312648</td>\n",
       "      <td>Benign essential hypertension</td>\n",
       "      <td>Claim- Outpatient: Secondary diagnosis</td>\n",
       "      <td>214382</td>\n",
       "    </tr>\n",
       "    <tr>\n",
       "      <th>31308</th>\n",
       "      <td>320128</td>\n",
       "      <td>Essential hypertension</td>\n",
       "      <td>Claim- Inpatient: Secondary diagnosis</td>\n",
       "      <td>212556</td>\n",
       "    </tr>\n",
       "    <tr>\n",
       "      <th>39402</th>\n",
       "      <td>42872402</td>\n",
       "      <td>Coronary arteriosclerosis in native artery</td>\n",
       "      <td>Claim- Outpatient: Primary diagnosis</td>\n",
       "      <td>211121</td>\n",
       "    </tr>\n",
       "  </tbody>\n",
       "</table>\n",
       "</div>"
      ],
      "text/plain": [
       "       condition_concept_id                      condition_concept_name  \\\n",
       "29311                320128                      Essential hypertension   \n",
       "15573                 77670                                  Chest pain   \n",
       "26063                201826                    Type 2 diabetes mellitus   \n",
       "36032                320128                      Essential hypertension   \n",
       "36558                432867                              Hyperlipidemia   \n",
       "41240                201826                    Type 2 diabetes mellitus   \n",
       "41469                200219                              Abdominal pain   \n",
       "34612                312648               Benign essential hypertension   \n",
       "31308                320128                      Essential hypertension   \n",
       "39402              42872402  Coronary arteriosclerosis in native artery   \n",
       "\n",
       "                                 concept_name  count_value  \n",
       "29311  Claim- Outpatient: Secondary diagnosis       603708  \n",
       "15573    Claim- Outpatient: Primary diagnosis       419081  \n",
       "26063    Claim- Outpatient: Primary diagnosis       347432  \n",
       "36032    Claim- Outpatient: Primary diagnosis       295551  \n",
       "36558  Claim- Outpatient: Secondary diagnosis       284294  \n",
       "41240  Claim- Outpatient: Secondary diagnosis       275409  \n",
       "41469    Claim- Outpatient: Primary diagnosis       232661  \n",
       "34612  Claim- Outpatient: Secondary diagnosis       214382  \n",
       "31308   Claim- Inpatient: Secondary diagnosis       212556  \n",
       "39402    Claim- Outpatient: Primary diagnosis       211121  "
      ]
     },
     "execution_count": 18,
     "metadata": {},
     "output_type": "execute_result"
    }
   ],
   "source": [
    "df_condition_by_type.sort_values(by='count_value', ascending=False).loc[:,['condition_concept_id','condition_concept_name','concept_name','count_value']].head(10)"
   ]
  },
  {
   "cell_type": "markdown",
   "metadata": {},
   "source": [
    "## Data density"
   ]
  },
  {
   "cell_type": "code",
   "execution_count": 19,
   "metadata": {},
   "outputs": [],
   "source": [
    "%%bq query --name datadensity\n",
    "\n",
    "select table_name as SERIES_NAME,\n",
    "        stratum_1 as X_CALENDAR_MONTH,\n",
    "        count_value as Y_RECORD_COUNT\n",
    "from\n",
    "(\n",
    "        select 'Visit occurrence' as table_name, CAST(stratum_1 as int64) stratum_1, count_value from test_run_achilles_merge_jan4.fake_achilles_results where analysis_id = 220 GROUP BY analysis_id, stratum_1, count_value\n",
    "        union all\n",
    "        select 'Condition occurrence' as table_name, CAST(stratum_1 as int64) stratum_1, count_value from test_run_achilles_merge_jan4.fake_achilles_results where analysis_id = 420 GROUP BY analysis_id, stratum_1, count_value\n",
    "        union all\n",
    "        select 'Death' as table_name, CAST(stratum_1 as int64) stratum_1, count_value from test_run_achilles_merge_jan4.fake_achilles_results where analysis_id = 502 GROUP BY analysis_id, stratum_1, count_value\n",
    "        union all\n",
    "        select 'Procedure occurrence' as table_name, CAST(stratum_1 as int64) stratum_1, count_value from test_run_achilles_merge_jan4.fake_achilles_results where analysis_id = 620 GROUP BY analysis_id, stratum_1, count_value\n",
    "        union all\n",
    "        select 'Drug exposure' as table_name, CAST(stratum_1 as int64) stratum_1, count_value from test_run_achilles_merge_jan4.fake_achilles_results where analysis_id = 720 GROUP BY analysis_id, stratum_1, count_value\n",
    "        union all\n",
    "        select 'Observation' as table_name, CAST(stratum_1 as int64) stratum_1, count_value from test_run_achilles_merge_jan4.fake_achilles_results where analysis_id = 820 GROUP BY analysis_id, stratum_1, count_value\n",
    "        union all\n",
    "        select 'Drug era' as table_name, CAST(stratum_1 as int64) stratum_1, count_value from test_run_achilles_merge_jan4.fake_achilles_results where analysis_id = 920 GROUP BY analysis_id, stratum_1, count_value\n",
    "        union all\n",
    "        select 'Condition era' as table_name, CAST(stratum_1 as int64) stratum_1, count_value from test_run_achilles_merge_jan4.fake_achilles_results where analysis_id = 1020 GROUP BY analysis_id, stratum_1, count_value\n",
    "        union all\n",
    "        select 'Observation period' as table_name, CAST(stratum_1 as int64) stratum_1, count_value from test_run_achilles_merge_jan4.fake_achilles_results where analysis_id = 111 GROUP BY analysis_id, stratum_1, count_value\n",
    ") t1\n",
    "ORDER BY SERIES_NAME, stratum_1"
   ]
  },
  {
   "cell_type": "code",
   "execution_count": 20,
   "metadata": {},
   "outputs": [],
   "source": [
    "df_datadensity = datadensity.execute(output_options=bq.QueryOutput.dataframe()).result()"
   ]
  },
  {
   "cell_type": "code",
   "execution_count": 21,
   "metadata": {},
   "outputs": [
    {
     "data": {
      "text/html": [
       "<div>\n",
       "<style scoped>\n",
       "    .dataframe tbody tr th:only-of-type {\n",
       "        vertical-align: middle;\n",
       "    }\n",
       "\n",
       "    .dataframe tbody tr th {\n",
       "        vertical-align: top;\n",
       "    }\n",
       "\n",
       "    .dataframe thead th {\n",
       "        text-align: right;\n",
       "    }\n",
       "</style>\n",
       "<table border=\"1\" class=\"dataframe\">\n",
       "  <thead>\n",
       "    <tr style=\"text-align: right;\">\n",
       "      <th></th>\n",
       "      <th>SERIES_NAME</th>\n",
       "      <th>X_CALENDAR_MONTH</th>\n",
       "      <th>Y_RECORD_COUNT</th>\n",
       "    </tr>\n",
       "  </thead>\n",
       "  <tbody>\n",
       "    <tr>\n",
       "      <th>0</th>\n",
       "      <td>Condition occurrence</td>\n",
       "      <td>200501</td>\n",
       "      <td>204868</td>\n",
       "    </tr>\n",
       "    <tr>\n",
       "      <th>1</th>\n",
       "      <td>Condition occurrence</td>\n",
       "      <td>200502</td>\n",
       "      <td>183617</td>\n",
       "    </tr>\n",
       "    <tr>\n",
       "      <th>2</th>\n",
       "      <td>Condition occurrence</td>\n",
       "      <td>200503</td>\n",
       "      <td>203664</td>\n",
       "    </tr>\n",
       "    <tr>\n",
       "      <th>3</th>\n",
       "      <td>Condition occurrence</td>\n",
       "      <td>200504</td>\n",
       "      <td>199991</td>\n",
       "    </tr>\n",
       "    <tr>\n",
       "      <th>4</th>\n",
       "      <td>Condition occurrence</td>\n",
       "      <td>200505</td>\n",
       "      <td>201889</td>\n",
       "    </tr>\n",
       "  </tbody>\n",
       "</table>\n",
       "</div>"
      ],
      "text/plain": [
       "            SERIES_NAME  X_CALENDAR_MONTH  Y_RECORD_COUNT\n",
       "0  Condition occurrence            200501          204868\n",
       "1  Condition occurrence            200502          183617\n",
       "2  Condition occurrence            200503          203664\n",
       "3  Condition occurrence            200504          199991\n",
       "4  Condition occurrence            200505          201889"
      ]
     },
     "execution_count": 21,
     "metadata": {},
     "output_type": "execute_result"
    }
   ],
   "source": [
    "df_datadensity.head()"
   ]
  },
  {
   "cell_type": "code",
   "execution_count": 22,
   "metadata": {},
   "outputs": [
    {
     "data": {
      "image/png": "[encoded data removed]",
      "text/plain": [
       "<matplotlib.figure.Figure at 0x7fc1e05e1710>"
      ]
     },
     "metadata": {},
     "output_type": "display_data"
    }
   ],
   "source": [
    "plt.figure(figsize=(14,8))\n",
    "for table in set(df_datadensity.SERIES_NAME):\n",
    "    df_sub = df_datadensity.loc[(df_datadensity.SERIES_NAME == table)].sort_values(by='X_CALENDAR_MONTH')\n",
    "    x = df_sub.X_CALENDAR_MONTH[df_sub.X_CALENDAR_MONTH.values>200000].values\n",
    "    y = df_sub.Y_RECORD_COUNT[df_sub.X_CALENDAR_MONTH.values>200000].values\n",
    "    plt.plot(x,y,label=table)\n",
    "    #df_datadensity.loc[(df_datadensity.SERIES_NAME == table), ['X_CALENDAR_MONTH','Y_RECORD_COUNT']].plot(title='a: 10, b: 20')\n",
    "# df_datadensity.plot();\n",
    "plt.legend()\n",
    "plt.show()"
   ]
  },
  {
   "cell_type": "code",
   "execution_count": 23,
   "metadata": {},
   "outputs": [],
   "source": [
    "%%bq query --name ageAtFirstObs\n",
    " select c1.concept_id as CONCEPT_ID,\n",
    "        c2.concept_name as CATEGORY,\n",
    "        ard1.min_value as MIN_VALUE,\n",
    "        ard1.p10_value as P10_VALUE,\n",
    "        ard1.p25_value as P25_VALUE,\n",
    "        ard1.median_value as MEDIAN_VALUE,\n",
    "        ard1.p75_value as P75_VALUE,\n",
    "        ard1.p90_value as P90_VALUE,\n",
    "        ard1.max_value as MAX_VALUE\n",
    "from (\n",
    "  select cast(stratum_1 as int64) stratum_1, cast(stratum_2 as int64) stratum_2, min_value, p10_value, p25_value, median_value, p75_value, p90_value, max_value\n",
    "  FROM test_run_achilles_merge_jan4.fake_achilles_results_dist\n",
    "  where analysis_id = 806\n",
    "  GROUP BY analysis_id, stratum_1, stratum_2, min_value, p10_value, p25_value, median_value, p75_value, p90_value, max_value\n",
    ") ard1\n",
    "inner join test_run_achilles_merge_jan4.concept c1 on ard1.stratum_1 = c1.concept_id\n",
    "inner join test_run_achilles_merge_jan4.concept c2 on ard1.stratum_2 = c2.concept_id"
   ]
  },
  {
   "cell_type": "code",
   "execution_count": 24,
   "metadata": {},
   "outputs": [],
   "source": [
    "df_age_at_first_obs = ageAtFirstObs.execute(output_options=bq.QueryOutput.dataframe()).result()"
   ]
  },
  {
   "cell_type": "code",
   "execution_count": 25,
   "metadata": {},
   "outputs": [
    {
     "data": {
      "text/html": [
       "<div>\n",
       "<style scoped>\n",
       "    .dataframe tbody tr th:only-of-type {\n",
       "        vertical-align: middle;\n",
       "    }\n",
       "\n",
       "    .dataframe tbody tr th {\n",
       "        vertical-align: top;\n",
       "    }\n",
       "\n",
       "    .dataframe thead th {\n",
       "        text-align: right;\n",
       "    }\n",
       "</style>\n",
       "<table border=\"1\" class=\"dataframe\">\n",
       "  <thead>\n",
       "    <tr style=\"text-align: right;\">\n",
       "      <th></th>\n",
       "      <th>CONCEPT_ID</th>\n",
       "      <th>CATEGORY</th>\n",
       "      <th>MIN_VALUE</th>\n",
       "      <th>P10_VALUE</th>\n",
       "      <th>P25_VALUE</th>\n",
       "      <th>MEDIAN_VALUE</th>\n",
       "      <th>P75_VALUE</th>\n",
       "      <th>P90_VALUE</th>\n",
       "      <th>MAX_VALUE</th>\n",
       "    </tr>\n",
       "  </thead>\n",
       "  <tbody>\n",
       "    <tr>\n",
       "      <th>0</th>\n",
       "      <td>440622</td>\n",
       "      <td>FEMALE</td>\n",
       "      <td>7.0</td>\n",
       "      <td>7.0</td>\n",
       "      <td>7.0</td>\n",
       "      <td>7.0</td>\n",
       "      <td>7.0</td>\n",
       "      <td>7.0</td>\n",
       "      <td>7.0</td>\n",
       "    </tr>\n",
       "    <tr>\n",
       "      <th>1</th>\n",
       "      <td>439520</td>\n",
       "      <td>FEMALE</td>\n",
       "      <td>7.0</td>\n",
       "      <td>7.0</td>\n",
       "      <td>7.0</td>\n",
       "      <td>7.0</td>\n",
       "      <td>7.0</td>\n",
       "      <td>7.0</td>\n",
       "      <td>7.0</td>\n",
       "    </tr>\n",
       "    <tr>\n",
       "      <th>2</th>\n",
       "      <td>2617403</td>\n",
       "      <td>MALE</td>\n",
       "      <td>9.0</td>\n",
       "      <td>9.0</td>\n",
       "      <td>9.0</td>\n",
       "      <td>9.0</td>\n",
       "      <td>9.0</td>\n",
       "      <td>9.0</td>\n",
       "      <td>9.0</td>\n",
       "    </tr>\n",
       "    <tr>\n",
       "      <th>3</th>\n",
       "      <td>443598</td>\n",
       "      <td>MALE</td>\n",
       "      <td>9.0</td>\n",
       "      <td>9.0</td>\n",
       "      <td>9.0</td>\n",
       "      <td>9.0</td>\n",
       "      <td>9.0</td>\n",
       "      <td>9.0</td>\n",
       "      <td>9.0</td>\n",
       "    </tr>\n",
       "    <tr>\n",
       "      <th>4</th>\n",
       "      <td>44832558</td>\n",
       "      <td>MALE</td>\n",
       "      <td>9.0</td>\n",
       "      <td>9.0</td>\n",
       "      <td>9.0</td>\n",
       "      <td>9.0</td>\n",
       "      <td>9.0</td>\n",
       "      <td>9.0</td>\n",
       "      <td>9.0</td>\n",
       "    </tr>\n",
       "    <tr>\n",
       "      <th>5</th>\n",
       "      <td>2617399</td>\n",
       "      <td>MALE</td>\n",
       "      <td>9.0</td>\n",
       "      <td>9.0</td>\n",
       "      <td>9.0</td>\n",
       "      <td>9.0</td>\n",
       "      <td>9.0</td>\n",
       "      <td>9.0</td>\n",
       "      <td>9.0</td>\n",
       "    </tr>\n",
       "    <tr>\n",
       "      <th>6</th>\n",
       "      <td>439346</td>\n",
       "      <td>MALE</td>\n",
       "      <td>10.0</td>\n",
       "      <td>10.0</td>\n",
       "      <td>10.0</td>\n",
       "      <td>10.0</td>\n",
       "      <td>10.0</td>\n",
       "      <td>10.0</td>\n",
       "      <td>10.0</td>\n",
       "    </tr>\n",
       "    <tr>\n",
       "      <th>7</th>\n",
       "      <td>2213591</td>\n",
       "      <td>MALE</td>\n",
       "      <td>9.0</td>\n",
       "      <td>9.0</td>\n",
       "      <td>9.0</td>\n",
       "      <td>12.0</td>\n",
       "      <td>12.0</td>\n",
       "      <td>12.0</td>\n",
       "      <td>12.0</td>\n",
       "    </tr>\n",
       "    <tr>\n",
       "      <th>8</th>\n",
       "      <td>2617403</td>\n",
       "      <td>FEMALE</td>\n",
       "      <td>12.0</td>\n",
       "      <td>12.0</td>\n",
       "      <td>12.0</td>\n",
       "      <td>12.0</td>\n",
       "      <td>12.0</td>\n",
       "      <td>12.0</td>\n",
       "      <td>12.0</td>\n",
       "    </tr>\n",
       "    <tr>\n",
       "      <th>9</th>\n",
       "      <td>2617399</td>\n",
       "      <td>FEMALE</td>\n",
       "      <td>12.0</td>\n",
       "      <td>12.0</td>\n",
       "      <td>12.0</td>\n",
       "      <td>12.0</td>\n",
       "      <td>12.0</td>\n",
       "      <td>12.0</td>\n",
       "      <td>12.0</td>\n",
       "    </tr>\n",
       "  </tbody>\n",
       "</table>\n",
       "</div>"
      ],
      "text/plain": [
       "   CONCEPT_ID CATEGORY  MIN_VALUE  P10_VALUE  P25_VALUE  MEDIAN_VALUE  \\\n",
       "0      440622   FEMALE        7.0        7.0        7.0           7.0   \n",
       "1      439520   FEMALE        7.0        7.0        7.0           7.0   \n",
       "2     2617403     MALE        9.0        9.0        9.0           9.0   \n",
       "3      443598     MALE        9.0        9.0        9.0           9.0   \n",
       "4    44832558     MALE        9.0        9.0        9.0           9.0   \n",
       "5     2617399     MALE        9.0        9.0        9.0           9.0   \n",
       "6      439346     MALE       10.0       10.0       10.0          10.0   \n",
       "7     2213591     MALE        9.0        9.0        9.0          12.0   \n",
       "8     2617403   FEMALE       12.0       12.0       12.0          12.0   \n",
       "9     2617399   FEMALE       12.0       12.0       12.0          12.0   \n",
       "\n",
       "   P75_VALUE  P90_VALUE  MAX_VALUE  \n",
       "0        7.0        7.0        7.0  \n",
       "1        7.0        7.0        7.0  \n",
       "2        9.0        9.0        9.0  \n",
       "3        9.0        9.0        9.0  \n",
       "4        9.0        9.0        9.0  \n",
       "5        9.0        9.0        9.0  \n",
       "6       10.0       10.0       10.0  \n",
       "7       12.0       12.0       12.0  \n",
       "8       12.0       12.0       12.0  \n",
       "9       12.0       12.0       12.0  "
      ]
     },
     "execution_count": 25,
     "metadata": {},
     "output_type": "execute_result"
    }
   ],
   "source": [
    "df_age_at_first_obs.head(10)"
   ]
  },
  {
   "cell_type": "markdown",
   "metadata": {},
   "source": [
    "## Age at first Observation"
   ]
  },
  {
   "cell_type": "code",
   "execution_count": 26,
   "metadata": {},
   "outputs": [
    {
     "data": {
      "image/png": "[encoded data removed]",
      "text/plain": [
       "<matplotlib.figure.Figure at 0x7fc1ceda1940>"
      ]
     },
     "metadata": {},
     "output_type": "display_data"
    }
   ],
   "source": [
    "plt.figure()\n",
    "plt.hist(df_age_at_first_obs.MIN_VALUE.values, bins=50)\n",
    "plt.show()"
   ]
  }
 ],
 "metadata": {
  "kernelspec": {
   "display_name": "Python 3",
   "language": "python",
   "name": "python3"
  },
  "language_info": {
   "codemirror_mode": {
    "name": "ipython",
    "version": 3
   },
   "file_extension": ".py",
   "mimetype": "text/x-python",
   "name": "python",
   "nbconvert_exporter": "python",
   "pygments_lexer": "ipython3",
   "version": "3.5.2"
  }
 },
 "nbformat": 4,
 "nbformat_minor": 2
}
